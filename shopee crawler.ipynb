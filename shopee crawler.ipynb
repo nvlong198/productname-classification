{
 "cells": [
  {
   "cell_type": "code",
   "execution_count": 42,
   "metadata": {},
   "outputs": [
    {
     "data": {
      "text/plain": [
       "{'Sức Khỏe & Sắc Đẹp': {'Chăm sóc da': 'https://shopee.vn/Ch%C4%83m-s%C3%B3c-da-cat.160.2341',\n",
       "  'Son & Chăm sóc môi': 'https://shopee.vn/Son-Ch%C4%83m-s%C3%B3c-m%C3%B4i-cat.160.2339',\n",
       "  'Trang điểm da': 'https://shopee.vn/Trang-%C4%91i%E1%BB%83m-da-cat.160.1913',\n",
       "  'Trang điểm mắt': 'https://shopee.vn/Trang-%C4%91i%E1%BB%83m-m%E1%BA%AFt-cat.160.2340',\n",
       "  'Mỹ phẩm nam': 'https://shopee.vn/M%E1%BB%B9-ph%E1%BA%A9m-nam-cat.160.1923',\n",
       "  'Tắm & Chăm sóc cơ thể': 'https://shopee.vn/T%E1%BA%AFm-Ch%C4%83m-s%C3%B3c-c%C6%A1-th%E1%BB%83-cat.160.2818',\n",
       "  'Chăm sóc tóc': 'https://shopee.vn/Ch%C4%83m-s%C3%B3c-t%C3%B3c-cat.160.1915',\n",
       "  'Chăm sóc răng miệng': 'https://shopee.vn/Ch%C4%83m-s%C3%B3c-r%C4%83ng-mi%E1%BB%87ng-cat.160.9671',\n",
       "  'Máy massage & Thiết bị y tế': 'https://shopee.vn/M%C3%A1y-massage-Thi%E1%BA%BFt-b%E1%BB%8B-y-t%E1%BA%BF-cat.160.9673',\n",
       "  'Dụng cụ làm đẹp': 'https://shopee.vn/D%E1%BB%A5ng-c%E1%BB%A5-l%C3%A0m-%C4%91%E1%BA%B9p-cat.160.1919',\n",
       "  'Vệ sinh phụ nữ & Hỗ trợ tình dục': 'https://shopee.vn/V%E1%BB%87-sinh-ph%E1%BB%A5-n%E1%BB%AF-H%E1%BB%97-tr%E1%BB%A3-t%C3%ACnh-d%E1%BB%A5c-cat.160.9669',\n",
       "  'Nước hoa': 'https://shopee.vn/N%C6%B0%E1%BB%9Bc-hoa-cat.160.1917',\n",
       "  'Vitamin & Thực phẩm chức năng': 'https://shopee.vn/Vitamin-Th%E1%BB%B1c-ph%E1%BA%A9m-ch%E1%BB%A9c-n%C4%83ng-cat.160.1921',\n",
       "  'Hoá Mỹ Phẩm & Khác': 'https://shopee.vn/Ho%C3%A1-M%E1%BB%B9-Ph%E1%BA%A9m-Kh%C3%A1c-cat.160.320'}}"
      ]
     },
     "execution_count": 42,
     "metadata": {},
     "output_type": "execute_result"
    }
   ],
   "source": [
    "import requests\n",
    "\n",
    "kv ={\n",
    "    'Sức Khỏe & Sắc Đẹp': {\n",
    "        'Chăm sóc da': 'https://shopee.vn/Ch%C4%83m-s%C3%B3c-da-cat.160.2341',\n",
    "        'Son & Chăm sóc môi': 'https://shopee.vn/Son-Ch%C4%83m-s%C3%B3c-m%C3%B4i-cat.160.2339',\n",
    "        'Trang điểm da': 'https://shopee.vn/Trang-%C4%91i%E1%BB%83m-da-cat.160.1913',\n",
    "        'Trang điểm mắt': 'https://shopee.vn/Trang-%C4%91i%E1%BB%83m-m%E1%BA%AFt-cat.160.2340',\n",
    "        'Mỹ phẩm nam': 'https://shopee.vn/M%E1%BB%B9-ph%E1%BA%A9m-nam-cat.160.1923',\n",
    "        'Tắm & Chăm sóc cơ thể': 'https://shopee.vn/T%E1%BA%AFm-Ch%C4%83m-s%C3%B3c-c%C6%A1-th%E1%BB%83-cat.160.2818',\n",
    "        'Chăm sóc tóc': 'https://shopee.vn/Ch%C4%83m-s%C3%B3c-t%C3%B3c-cat.160.1915',\n",
    "        'Chăm sóc răng miệng': 'https://shopee.vn/Ch%C4%83m-s%C3%B3c-r%C4%83ng-mi%E1%BB%87ng-cat.160.9671',\n",
    "        'Máy massage & Thiết bị y tế': 'https://shopee.vn/M%C3%A1y-massage-Thi%E1%BA%BFt-b%E1%BB%8B-y-t%E1%BA%BF-cat.160.9673',\n",
    "        'Dụng cụ làm đẹp': 'https://shopee.vn/D%E1%BB%A5ng-c%E1%BB%A5-l%C3%A0m-%C4%91%E1%BA%B9p-cat.160.1919',\n",
    "        'Vệ sinh phụ nữ & Hỗ trợ tình dục': 'https://shopee.vn/V%E1%BB%87-sinh-ph%E1%BB%A5-n%E1%BB%AF-H%E1%BB%97-tr%E1%BB%A3-t%C3%ACnh-d%E1%BB%A5c-cat.160.9669',\n",
    "        'Nước hoa': 'https://shopee.vn/N%C6%B0%E1%BB%9Bc-hoa-cat.160.1917',\n",
    "        'Vitamin & Thực phẩm chức năng': 'https://shopee.vn/Vitamin-Th%E1%BB%B1c-ph%E1%BA%A9m-ch%E1%BB%A9c-n%C4%83ng-cat.160.1921',\n",
    "        'Hoá Mỹ Phẩm & Khác': 'https://shopee.vn/Ho%C3%A1-M%E1%BB%B9-Ph%E1%BA%A9m-Kh%C3%A1c-cat.160.320'\n",
    "    }\n",
    "}\n",
    "kv"
   ]
  },
  {
   "cell_type": "code",
   "execution_count": 84,
   "metadata": {},
   "outputs": [
    {
     "name": "stdout",
     "output_type": "stream",
     "text": [
      "Sức Khỏe & Sắc Đẹp\n",
      "Thời Trang Nam\n",
      "Thời Trang Nữ\n",
      "Điện Thoại & Phụ Kiện\n",
      "Bách Hoá Online \n",
      "Chăm sóc thú cưng\n",
      "Giày Dép Nam\n",
      "Giày Dép Nữ\n",
      "Giặt giũ\n",
      "Máy tính & Laptop\n",
      "Máy ảnh - Máy quay phim\n",
      "Mẹ & Bé\n",
      "Nhà Cửa & Đời Sống\n",
      "Nhà Sách Online\n",
      "Phụ Kiện Thời Trang\n",
      "Thiết Bị Điện Gia Dụng\n",
      "Thiết Bị Điện Tử\n",
      "Thể Thao & Du Lịch\n",
      "Thời Trang Trẻ Em\n",
      "Túi Ví\n",
      "Voucher & Dịch vụ\n",
      "Ô tô - xe máy - xe đạp\n",
      "Đồ Chơi\n",
      "Đồng Hồ\n"
     ]
    }
   ],
   "source": [
    "import json\n",
    "\n",
    "with open('./link.json', encoding='utf-8') as f:\n",
    "    kv = json.load(f)\n",
    "for k in list(kv.keys()):\n",
    "    print(k)"
   ]
  },
  {
   "cell_type": "code",
   "execution_count": 80,
   "metadata": {},
   "outputs": [
    {
     "data": {
      "text/plain": [
       "{'Sức Khỏe & Sắc Đẹp': {'Chăm sóc da': 'https://shopee.vn/Ch%C4%83m-s%C3%B3c-da-cat.160.2341',\n",
       "  'Son & Chăm sóc môi': 'https://shopee.vn/Son-Ch%C4%83m-s%C3%B3c-m%C3%B4i-cat.160.2339',\n",
       "  'Trang điểm da': 'https://shopee.vn/Trang-%C4%91i%E1%BB%83m-da-cat.160.1913',\n",
       "  'Trang điểm mắt': 'https://shopee.vn/Trang-%C4%91i%E1%BB%83m-m%E1%BA%AFt-cat.160.2340',\n",
       "  'Mỹ phẩm nam': 'https://shopee.vn/M%E1%BB%B9-ph%E1%BA%A9m-nam-cat.160.1923',\n",
       "  'Tắm & Chăm sóc cơ thể': 'https://shopee.vn/T%E1%BA%AFm-Ch%C4%83m-s%C3%B3c-c%C6%A1-th%E1%BB%83-cat.160.2818',\n",
       "  'Chăm sóc tóc': 'https://shopee.vn/Ch%C4%83m-s%C3%B3c-t%C3%B3c-cat.160.1915',\n",
       "  'Chăm sóc răng miệng': 'https://shopee.vn/Ch%C4%83m-s%C3%B3c-r%C4%83ng-mi%E1%BB%87ng-cat.160.9671',\n",
       "  'Máy massage & Thiết bị y tế': 'https://shopee.vn/M%C3%A1y-massage-Thi%E1%BA%BFt-b%E1%BB%8B-y-t%E1%BA%BF-cat.160.9673',\n",
       "  'Dụng cụ làm đẹp': 'https://shopee.vn/D%E1%BB%A5ng-c%E1%BB%A5-l%C3%A0m-%C4%91%E1%BA%B9p-cat.160.1919',\n",
       "  'Vệ sinh phụ nữ & Hỗ trợ tình dục': 'https://shopee.vn/V%E1%BB%87-sinh-ph%E1%BB%A5-n%E1%BB%AF-H%E1%BB%97-tr%E1%BB%A3-t%C3%ACnh-d%E1%BB%A5c-cat.160.9669',\n",
       "  'Nước hoa': 'https://shopee.vn/N%C6%B0%E1%BB%9Bc-hoa-cat.160.1917',\n",
       "  'Vitamin & Thực phẩm chức năng': 'https://shopee.vn/Vitamin-Th%E1%BB%B1c-ph%E1%BA%A9m-ch%E1%BB%A9c-n%C4%83ng-cat.160.1921',\n",
       "  'Hoá Mỹ Phẩm & Khác': 'https://shopee.vn/Ho%C3%A1-M%E1%BB%B9-Ph%E1%BA%A9m-Kh%C3%A1c-cat.160.320'},\n",
       " 'Thời Trang Nam': {'Áo thun': 'https://shopee.vn/%C3%81o-thun-cat.78.2827',\n",
       "  'Áo sơ mi': 'https://shopee.vn/%C3%81o-s%C6%A1-mi-cat.78.2828',\n",
       "  'Áo khoác & Áo vest': 'https://shopee.vn/%C3%81o-kho%C3%A1c-%C3%81o-vest-cat.78.2829',\n",
       "  'Áo nỉ/ Áo len': 'https://shopee.vn/%C3%81o-n%E1%BB%89-%C3%81o-len-cat.78.9566',\n",
       "  'Đồ bộ/ Đồ mặc nhà': 'https://shopee.vn/%C4%90%E1%BB%93-b%E1%BB%99-%C4%90%E1%BB%93-m%E1%BA%B7c-nh%C3%A0-cat.78.9568',\n",
       "  'Đồ đôi': 'https://shopee.vn/%C4%90%E1%BB%93-%C4%91%C3%B4i-cat.78.9570',\n",
       "  'Quần': 'https://shopee.vn/Qu%E1%BA%A7n-cat.78.1899',\n",
       "  'Balo/ Túi/ Ví': 'https://shopee.vn/Balo-T%C3%BAi-V%C3%AD-cat.78.9572',\n",
       "  'Mắt kính': 'https://shopee.vn/M%E1%BA%AFt-k%C3%ADnh-cat.78.9594',\n",
       "  'Phụ kiện nam': 'https://shopee.vn/Ph%E1%BB%A5-ki%E1%BB%87n-nam-cat.78.2831',\n",
       "  'Đồ Trung Niên': 'https://shopee.vn/%C4%90%E1%BB%93-Trung-Ni%C3%AAn-cat.78.15141',\n",
       "  'Trang Sức Nam': 'https://shopee.vn/Trang-S%E1%BB%A9c-Nam-cat.78.15139',\n",
       "  'Thắt Lưng': 'https://shopee.vn/Th%E1%BA%AFt-L%C6%B0ng-cat.78.15135',\n",
       "  'Đồ lót': 'https://shopee.vn/%C4%90%E1%BB%93-l%C3%B3t-cat.78.15023'},\n",
       " 'Thời Trang Nữ': {'Áo': 'https://shopee.vn/%C3%81o-cat.77.1871',\n",
       "  'Đầm': 'https://shopee.vn/%C4%90%E1%BA%A7m-cat.77.2821',\n",
       "  'Chân váy': 'https://shopee.vn/Ch%C3%A2n-v%C3%A1y-cat.77.2822',\n",
       "  'Quần': 'https://shopee.vn/Qu%E1%BA%A7n-cat.77.1877',\n",
       "  'Set trang phục & Jumpsuit': 'https://shopee.vn/Set-trang-ph%E1%BB%A5c-Jumpsuit-cat.77.2334',\n",
       "  'Đồ đôi': 'https://shopee.vn/%C4%90%E1%BB%93-%C4%91%C3%B4i-cat.77.2335',\n",
       "  'Đồ lót, Đồ ngủ & Đồ mặc nhà': 'https://shopee.vn/%C4%90%E1%BB%93-l%C3%B3t-%C4%90%E1%BB%93-ng%E1%BB%A7-%C4%90%E1%BB%93-m%E1%BA%B7c-nh%C3%A0-cat.77.1879',\n",
       "  'Đồ bơi': 'https://shopee.vn/%C4%90%E1%BB%93-b%C6%A1i-cat.77.1881',\n",
       "  'Trang phục thể thao': 'https://shopee.vn/Trang-ph%E1%BB%A5c-th%E1%BB%83-thao-cat.77.2823',\n",
       "  'Phụ kiện may mặc': 'https://shopee.vn/Ph%E1%BB%A5-ki%E1%BB%87n-may-m%E1%BA%B7c-cat.77.10576',\n",
       "  'Thời trang trung niên': 'https://shopee.vn/Th%E1%BB%9Di-trang-trung-ni%C3%AAn-cat.77.13506',\n",
       "  'Áo khoác & Áo vest': 'https://shopee.vn/%C3%81o-kho%C3%A1c-%C3%81o-vest-cat.77.1875',\n",
       "  'Trang Phục Đông': 'https://shopee.vn/Trang-Ph%E1%BB%A5c-%C4%90%C3%B4ng-cat.77.9865',\n",
       "  'Thời trang bầu và sau sinh': 'https://shopee.vn/Th%E1%BB%9Di-trang-b%E1%BA%A7u-v%C3%A0-sau-sinh-cat.77.16848'},\n",
       " 'Điện Thoại & Phụ Kiện': {'Điện thoại': 'https://shopee.vn/%C4%90i%E1%BB%87n-tho%E1%BA%A1i-cat.84.1979',\n",
       "  'Máy tính bảng': 'https://shopee.vn/M%C3%A1y-t%C3%ADnh-b%E1%BA%A3ng-cat.84.14026',\n",
       "  'Vỏ, Bao & Ốp lưng': 'https://shopee.vn/V%E1%BB%8F-Bao-%E1%BB%90p-l%C6%B0ng-cat.84.1985',\n",
       "  'Miếng dán màn hình': 'https://shopee.vn/Mi%E1%BA%BFng-d%C3%A1n-m%C3%A0n-h%C3%ACnh-cat.84.2802',\n",
       "  'Pin sạc dự phòng': 'https://shopee.vn/Pin-s%E1%BA%A1c-d%E1%BB%B1-ph%C3%B2ng-cat.84.2817',\n",
       "  'Pin, Cáp & Bộ sạc': 'https://shopee.vn/Pin-s%E1%BA%A1c-d%E1%BB%B1-ph%C3%B2ng-cat.84.2817',\n",
       "  'Giá đỡ & Kẹp': 'https://shopee.vn/Gi%C3%A1-%C4%91%E1%BB%A1-K%E1%BA%B9p-cat.84.8728',\n",
       "  'Gậy chụp hình': 'https://shopee.vn/G%E1%BA%ADy-ch%E1%BB%A5p-h%C3%ACnh-cat.84.2403',\n",
       "  'Sim': 'https://shopee.vn/Sim-cat.84.2803'},\n",
       " 'Bách Hoá Online ': {'Ăn vặt & Bánh kẹo': 'https://shopee.vn/%C4%82n-v%E1%BA%B7t-B%C3%A1nh-k%E1%BA%B9o-cat.9824.9827 ',\n",
       "  'Đồ uống': 'https://shopee.vn/%C4%90%E1%BB%93-u%E1%BB%91ng-cat.9824.9835',\n",
       "  'Đồ hộp & Đóng gói': 'https://shopee.vn/%C4%90%E1%BB%93-h%E1%BB%99p-%C4%90%C3%B3ng-g%C3%B3i-cat.9824.9831',\n",
       "  'Nấu ăn & Làm bánh': 'https://shopee.vn/N%E1%BA%A5u-%C4%83n-L%C3%A0m-b%C3%A1nh-cat.9824.9833',\n",
       "  'Đậu & Hạt': 'https://shopee.vn/%C4%90%E1%BA%ADu-H%E1%BA%A1t-cat.9824.9829',\n",
       "  'Đặc sản Việt': 'https://shopee.vn/%C4%90%E1%BA%B7c-s%E1%BA%A3n-Vi%E1%BB%87t-cat.9824.9837',\n",
       "  'Quà biếu': 'https://shopee.vn/Qu%C3%A0-bi%E1%BA%BFu-cat.9824.9839',\n",
       "  'Sữa': 'https://shopee.vn/S%E1%BB%AFa-cat.9824.11975'},\n",
       " 'Chăm sóc thú cưng': {'Chó': 'https://shopee.vn/Ch%C3%B3-cat.18977.18980',\n",
       "  'Mèo': 'https://shopee.vn/M%C3%A8o-cat.18977.18988',\n",
       "  'Fish': 'https://shopee.vn/Fish-cat.18977.18996',\n",
       "  'Chim': 'https://shopee.vn/Chim-cat.18977.19003',\n",
       "  'Hamsters': 'https://shopee.vn/Hamsters-cat.18977.19008',\n",
       "  'Khác': 'https://shopee.vn/Kh%C3%A1c-cat.18977.18978'},\n",
       " 'Giày Dép Nam': {'Giày thể thao/ Sneakers': 'https://shopee.vn/Gi%C3%A0y-th%E1%BB%83-thao-Sneakers-cat.2429.2431',\n",
       "  'Giày lười': 'https://shopee.vn/Gi%C3%A0y-l%C6%B0%E1%BB%9Di-cat.2429.2432',\n",
       "  'Giày tây': 'https://shopee.vn/Gi%C3%A0y-t%C3%A2y-cat.2429.2434',\n",
       "  'Xăng-đan': 'https://shopee.vn/X%C4%83ng-%C4%91an-cat.2429.2436',\n",
       "  'Dép': 'https://shopee.vn/D%C3%A9p-cat.2429.2435',\n",
       "  'Giày dép Unisex': 'https://shopee.vn/Gi%C3%A0y-d%C3%A9p-Unisex-cat.2429.13716',\n",
       "  'Phụ kiện giày dép': 'https://shopee.vn/Ph%E1%BB%A5-ki%E1%BB%87n-gi%C3%A0y-d%C3%A9p-cat.2429.13724'},\n",
       " 'Giày Dép Nữ': {'Giày cao gót': 'https://shopee.vn/Gi%C3%A0y-cao-g%C3%B3t-cat.161.1927',\n",
       "  'Giày đế bằng': 'https://shopee.vn/Gi%C3%A0y-%C4%91%E1%BA%BF-b%E1%BA%B1ng-cat.161.1933',\n",
       "  'Sandal': 'https://shopee.vn/Sandal-cat.161.1935',\n",
       "  'Giày cao gót/ Giày đế xuồng': 'https://shopee.vn/Gi%C3%A0y-cao-g%C3%B3t-Gi%C3%A0y-%C4%91%E1%BA%BF-xu%E1%BB%93ng-cat.161.10205',\n",
       "  'Bốt': 'https://shopee.vn/B%E1%BB%91t-cat.161.1931',\n",
       "  'Guốc/Dép nữ': 'https://shopee.vn/Gu%E1%BB%91c-D%C3%A9p-n%E1%BB%AF-cat.161.13381',\n",
       "  'Giày sneaker và Giày thể thao': 'https://shopee.vn/Gi%C3%A0y-sneaker-v%C3%A0-Gi%C3%A0y-th%E1%BB%83-thao-cat.161.1929',\n",
       "  'Phụ kiện giày': 'https://shopee.vn/Ph%E1%BB%A5-ki%E1%BB%87n-gi%C3%A0y-cat.161.10238'}}"
      ]
     },
     "execution_count": 80,
     "metadata": {},
     "output_type": "execute_result"
    }
   ],
   "source": [
    "l1 = list(kv.keys())[:8]\n",
    "l2 = list(kv.keys())[8:16]\n",
    "l3 = list(kv.keys())[16:]\n",
    "\n",
    "k_v = {k: v for k,v in kv.items() if k in l1}\n",
    "k_v"
   ]
  },
  {
   "cell_type": "code",
   "execution_count": 27,
   "metadata": {},
   "outputs": [
    {
     "name": "stdout",
     "output_type": "stream",
     "text": [
      "{'Chăm sóc da': '2341', 'Son & Chăm sóc môi': '2339', 'Trang điểm da': '1913', 'Trang điểm mắt': '2340', 'Mỹ phẩm nam': '1923', 'Tắm & Chăm sóc cơ thể': '2818', 'Chăm sóc tóc': '1915', 'Chăm sóc răng miệng': '9671', 'Máy massage & Thiết bị y tế': '9673', 'Dụng cụ làm đẹp': '1919', 'Vệ sinh phụ nữ & Hỗ trợ tình dục': '9669', 'Nước hoa': '1917', 'Vitamin & Thực phẩm chức năng': '1921', 'Hoá Mỹ Phẩm & Khác': '320'}\n"
     ]
    }
   ],
   "source": [
    "name2id = { k: v.split('.')[-1] for k, v in kv['Sức Khỏe & Sắc Đẹp'].items() }\n",
    "print(name2id)"
   ]
  },
  {
   "cell_type": "code",
   "execution_count": 7,
   "metadata": {},
   "outputs": [],
   "source": [
    "pages = [ '?page={}'.format(i) for i in range(1,100)]"
   ]
  },
  {
   "cell_type": "code",
   "execution_count": 43,
   "metadata": {},
   "outputs": [
    {
     "name": "stdout",
     "output_type": "stream",
     "text": [
      "140000\n",
      "[('Sức Khỏe & Sắc Đẹp', 'Chăm sóc da', 'Bột Trà Xanh Dưỡng Da Bảo Lộc 400G cao cấp'), ('Sức Khỏe & Sắc Đẹp', 'Chăm sóc da', 'Combo mix 10 miếng mặt nạ Bioaqua mask nội địa Trung (nana beauty)'), ('Sức Khỏe & Sắc Đẹp', 'Chăm sóc da', 'Sữa rửa mặt tạo bọt chiết xuất tơ tằm trắng Senka Perfect Whip 120g_14839'), ('Sức Khỏe & Sắc Đẹp', 'Chăm sóc da', 'Mặt nạ rong biển tươi Cellbn Cellxv Real Kelp Facial Mask Hàn Quốc 20ml'), ('Sức Khỏe & Sắc Đẹp', 'Chăm sóc da', 'XỊT KHOÁNG AVENE'), ('Sức Khỏe & Sắc Đẹp', 'Chăm sóc da', 'Sữa rửa mặt 5 in 1 dòng sạch pureline'), ('Sức Khỏe & Sắc Đẹp', 'Chăm sóc da', 'set bichup giải quyết mọi vấn đề về da'), ('Sức Khỏe & Sắc Đẹp', 'Chăm sóc da', '[Bill hãng] Tinh chất Niacinamide 10% + Zinc 1% - The Ordinary'), ('Sức Khỏe & Sắc Đẹp', 'Chăm sóc da', 'Dầu tẩy trang Muji Nhật Bản'), ('Sức Khỏe & Sắc Đẹp', 'Chăm sóc da', 'Kem mắt SKII Mini')]\n"
     ]
    }
   ],
   "source": [
    "limit_number = 100\n",
    "url = 'https://shopee.vn/api/v2/search_items/?by=relevancy&limit={}&match_id={}&newest=0&order=desc&page_type=search&version=2'\n",
    "headers = {\n",
    "    'User-Agent': 'Mozilla/5.0 (Windows NT 10.0; Win64; x64) AppleWebKit/537.36 (KHTML, like Gecko) Chrome/80.0.3987.149 Safari/537.36',\n",
    "    'X-Requested-With': 'XMLHttpRequest',\n",
    "}\n",
    "\n",
    "result_name = []\n",
    "def append_data(parent_name, child_name, items_data):\n",
    "    for item in items_data:\n",
    "        result_name.append((parent_name, child_name, item['name']))\n",
    "\n",
    "for kk, vv in kv.items():\n",
    "    for name, url_link in kv[kk].items():\n",
    "        links = []\n",
    "        links.append(url_link)\n",
    "        \n",
    "        match_id = url_link.split('.')[-1]\n",
    "        \n",
    "        url_request = url.format(limit_number, match_id)\n",
    "        for page in pages:\n",
    "            links.append(v + page)\n",
    "        \n",
    "        for link in links:\n",
    "            headers['Referer'] = link\n",
    "            r = requests.get(url_request, headers=headers)\n",
    "            data = r.json()\n",
    "            append_data(kk, name, data['items'])\n",
    "\n",
    "print(len(result_name))\n",
    "print(result_name[:10])"
   ]
  },
  {
   "cell_type": "code",
   "execution_count": 45,
   "metadata": {},
   "outputs": [],
   "source": [
    "import pickle\n",
    "with open('suckhoe_sacdep.pkl', 'wb') as f:\n",
    "    pickle.dump(result_name, f)"
   ]
  },
  {
   "cell_type": "code",
   "execution_count": 46,
   "metadata": {},
   "outputs": [
    {
     "ename": "NameError",
     "evalue": "name 'll' is not defined",
     "output_type": "error",
     "traceback": [
      "\u001b[1;31m---------------------------------------------------------------------------\u001b[0m",
      "\u001b[1;31mNameError\u001b[0m                                 Traceback (most recent call last)",
      "\u001b[1;32m<ipython-input-46-bc264e3867d3>\u001b[0m in \u001b[0;36m<module>\u001b[1;34m\u001b[0m\n\u001b[1;32m----> 1\u001b[1;33m \u001b[0mll\u001b[0m\u001b[1;33m\u001b[0m\u001b[1;33m\u001b[0m\u001b[0m\n\u001b[0m",
      "\u001b[1;31mNameError\u001b[0m: name 'll' is not defined"
     ]
    }
   ],
   "source": []
  },
  {
   "cell_type": "code",
   "execution_count": 30,
   "metadata": {},
   "outputs": [
    {
     "name": "stdout",
     "output_type": "stream",
     "text": [
      "('Sức Khỏe & Sắc Đẹp', 'Chăm sóc da', 'https://shopee.vn/Ch%C4%83m-s%C3%B3c-da-cat.160.2341?page=1')\n"
     ]
    }
   ],
   "source": [
    "print(links[1])"
   ]
  }
 ],
 "metadata": {
  "kernelspec": {
   "display_name": "Python 3",
   "language": "python",
   "name": "python3"
  },
  "language_info": {
   "codemirror_mode": {
    "name": "ipython",
    "version": 3
   },
   "file_extension": ".py",
   "mimetype": "text/x-python",
   "name": "python",
   "nbconvert_exporter": "python",
   "pygments_lexer": "ipython3",
   "version": "3.7.4"
  }
 },
 "nbformat": 4,
 "nbformat_minor": 2
}
